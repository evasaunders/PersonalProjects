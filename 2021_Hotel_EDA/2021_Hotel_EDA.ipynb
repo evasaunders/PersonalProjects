{
 "cells": [
  {
   "cell_type": "markdown",
   "metadata": {},
   "source": [
    "# Exploratory Data Analysis of the Hotel Customer Dataset\n",
    "**Evamaria Saunders** <br>\n",
    "**24/11/2021** <br>\n",
    "**Dataset**: https://www.kaggle.com/nantonio/a-hotels-customers-dataset?resource=download <br>\n",
    "*More Information*: https://www.sciencedirect.com/science/article/pii/S2352340920314645?via%3Dihub <br>\n",
    "\n",
    "<br>\n",
    "\n",
    "## Part 1: Preparations"
   ]
  },
  {
   "cell_type": "code",
   "execution_count": 1,
   "metadata": {},
   "outputs": [],
   "source": [
    "#import relevant libraries/packages\n",
    "import pandas as pd\n",
    "import matplotlib.pyplot as plt"
   ]
  },
  {
   "cell_type": "code",
   "execution_count": 2,
   "metadata": {},
   "outputs": [],
   "source": [
    "#open dataset\n",
    "file_dir = \"C:/Users/Computer/Documents/Evamaria's Documents/Personal Projects/Data/HotelCustomersDataset.xlsx\"\n",
    "dataset = pd.read_excel(file_dir)"
   ]
  },
  {
   "cell_type": "code",
   "execution_count": null,
   "metadata": {},
   "outputs": [
    {
     "name": "stdout",
     "output_type": "stream",
     "text": [
      "Index(['ID', 'Nationality', 'Age', 'DaysSinceCreation', 'NameHash',\n",
      "       'DocIDHash', 'AverageLeadTime', 'LodgingRevenue', 'OtherRevenue',\n",
      "       'BookingsCanceled', 'BookingsNoShowed', 'BookingsCheckedIn',\n",
      "       'PersonsNights', 'RoomNights', 'DaysSinceLastStay',\n",
      "       'DaysSinceFirstStay', 'DistributionChannel', 'MarketSegment',\n",
      "       'SRHighFloor', 'SRLowFloor', 'SRAccessibleRoom', 'SRMediumFloor',\n",
      "       'SRBathtub', 'SRShower', 'SRCrib', 'SRKingSizeBed', 'SRTwinBed',\n",
      "       'SRNearElevator', 'SRAwayFromElevator', 'SRNoAlcoholInMiniBar',\n",
      "       'SRQuietRoom'],\n",
      "      dtype='object')\n",
      "ID                        int64\n",
      "Nationality              object\n",
      "Age                     float64\n",
      "DaysSinceCreation         int64\n",
      "NameHash                 object\n",
      "DocIDHash                object\n",
      "AverageLeadTime           int64\n",
      "LodgingRevenue          float64\n",
      "OtherRevenue            float64\n",
      "BookingsCanceled          int64\n",
      "BookingsNoShowed          int64\n",
      "BookingsCheckedIn         int64\n",
      "PersonsNights             int64\n",
      "RoomNights                int64\n",
      "DaysSinceLastStay         int64\n",
      "DaysSinceFirstStay        int64\n",
      "DistributionChannel      object\n",
      "MarketSegment            object\n",
      "SRHighFloor               int64\n",
      "SRLowFloor                int64\n",
      "SRAccessibleRoom          int64\n",
      "SRMediumFloor             int64\n",
      "SRBathtub                 int64\n",
      "SRShower                  int64\n",
      "SRCrib                    int64\n",
      "SRKingSizeBed             int64\n",
      "SRTwinBed                 int64\n",
      "SRNearElevator            int64\n",
      "SRAwayFromElevator        int64\n",
      "SRNoAlcoholInMiniBar      int64\n",
      "SRQuietRoom               int64\n",
      "dtype: object\n",
      "(83590, 31)\n"
     ]
    },
    {
     "data": {
      "text/html": [
       "<div>\n",
       "<style scoped>\n",
       "    .dataframe tbody tr th:only-of-type {\n",
       "        vertical-align: middle;\n",
       "    }\n",
       "\n",
       "    .dataframe tbody tr th {\n",
       "        vertical-align: top;\n",
       "    }\n",
       "\n",
       "    .dataframe thead th {\n",
       "        text-align: right;\n",
       "    }\n",
       "</style>\n",
       "<table border=\"1\" class=\"dataframe\">\n",
       "  <thead>\n",
       "    <tr style=\"text-align: right;\">\n",
       "      <th></th>\n",
       "      <th>ID</th>\n",
       "      <th>Nationality</th>\n",
       "      <th>Age</th>\n",
       "      <th>DaysSinceCreation</th>\n",
       "      <th>NameHash</th>\n",
       "      <th>DocIDHash</th>\n",
       "      <th>AverageLeadTime</th>\n",
       "      <th>LodgingRevenue</th>\n",
       "      <th>OtherRevenue</th>\n",
       "      <th>BookingsCanceled</th>\n",
       "      <th>...</th>\n",
       "      <th>SRMediumFloor</th>\n",
       "      <th>SRBathtub</th>\n",
       "      <th>SRShower</th>\n",
       "      <th>SRCrib</th>\n",
       "      <th>SRKingSizeBed</th>\n",
       "      <th>SRTwinBed</th>\n",
       "      <th>SRNearElevator</th>\n",
       "      <th>SRAwayFromElevator</th>\n",
       "      <th>SRNoAlcoholInMiniBar</th>\n",
       "      <th>SRQuietRoom</th>\n",
       "    </tr>\n",
       "  </thead>\n",
       "  <tbody>\n",
       "    <tr>\n",
       "      <th>0</th>\n",
       "      <td>1</td>\n",
       "      <td>PRT</td>\n",
       "      <td>51.0</td>\n",
       "      <td>150</td>\n",
       "      <td>0x8E0A7AF39B633D5EA25C3B7EF4DFC5464B36DB7AF375...</td>\n",
       "      <td>0x71568459B729F7A7ABBED6C781A84CA4274D571003AC...</td>\n",
       "      <td>45</td>\n",
       "      <td>371.0</td>\n",
       "      <td>105.3</td>\n",
       "      <td>1</td>\n",
       "      <td>...</td>\n",
       "      <td>0</td>\n",
       "      <td>0</td>\n",
       "      <td>0</td>\n",
       "      <td>0</td>\n",
       "      <td>0</td>\n",
       "      <td>0</td>\n",
       "      <td>0</td>\n",
       "      <td>0</td>\n",
       "      <td>0</td>\n",
       "      <td>0</td>\n",
       "    </tr>\n",
       "    <tr>\n",
       "      <th>1</th>\n",
       "      <td>2</td>\n",
       "      <td>PRT</td>\n",
       "      <td>NaN</td>\n",
       "      <td>1095</td>\n",
       "      <td>0x21EDE41906B45079E75385B5AA33287CA09DE1AB86DE...</td>\n",
       "      <td>0x5FA1E0098A31497057C5A6B9FE9D49FD6DD47CCE7C26...</td>\n",
       "      <td>61</td>\n",
       "      <td>280.0</td>\n",
       "      <td>53.0</td>\n",
       "      <td>0</td>\n",
       "      <td>...</td>\n",
       "      <td>0</td>\n",
       "      <td>0</td>\n",
       "      <td>0</td>\n",
       "      <td>0</td>\n",
       "      <td>0</td>\n",
       "      <td>0</td>\n",
       "      <td>0</td>\n",
       "      <td>0</td>\n",
       "      <td>0</td>\n",
       "      <td>0</td>\n",
       "    </tr>\n",
       "    <tr>\n",
       "      <th>2</th>\n",
       "      <td>3</td>\n",
       "      <td>DEU</td>\n",
       "      <td>31.0</td>\n",
       "      <td>1095</td>\n",
       "      <td>0x31C5E4B74E23231295FDB724AD578C02C4A723F4BA2B...</td>\n",
       "      <td>0xC7CF344F5B03295037595B1337AC905CA188F1B5B3A5...</td>\n",
       "      <td>0</td>\n",
       "      <td>0.0</td>\n",
       "      <td>0.0</td>\n",
       "      <td>0</td>\n",
       "      <td>...</td>\n",
       "      <td>0</td>\n",
       "      <td>0</td>\n",
       "      <td>0</td>\n",
       "      <td>0</td>\n",
       "      <td>0</td>\n",
       "      <td>0</td>\n",
       "      <td>0</td>\n",
       "      <td>0</td>\n",
       "      <td>0</td>\n",
       "      <td>0</td>\n",
       "    </tr>\n",
       "    <tr>\n",
       "      <th>3</th>\n",
       "      <td>4</td>\n",
       "      <td>FRA</td>\n",
       "      <td>60.0</td>\n",
       "      <td>1095</td>\n",
       "      <td>0xFF534C83C0EF23D1CE516BC80A65D0197003D27937D4...</td>\n",
       "      <td>0xBD3823A9B4EC35D6CAF4B27AE423A677C0200DB61E82...</td>\n",
       "      <td>93</td>\n",
       "      <td>240.0</td>\n",
       "      <td>60.0</td>\n",
       "      <td>0</td>\n",
       "      <td>...</td>\n",
       "      <td>0</td>\n",
       "      <td>0</td>\n",
       "      <td>0</td>\n",
       "      <td>0</td>\n",
       "      <td>0</td>\n",
       "      <td>0</td>\n",
       "      <td>0</td>\n",
       "      <td>0</td>\n",
       "      <td>0</td>\n",
       "      <td>0</td>\n",
       "    </tr>\n",
       "    <tr>\n",
       "      <th>4</th>\n",
       "      <td>5</td>\n",
       "      <td>FRA</td>\n",
       "      <td>51.0</td>\n",
       "      <td>1095</td>\n",
       "      <td>0x9C1DEF02C9BE242842C1C1ABF2C5AA249A1EEB4763B4...</td>\n",
       "      <td>0xE175754CF77247B202DD0820F49407C762C14A603B3A...</td>\n",
       "      <td>0</td>\n",
       "      <td>0.0</td>\n",
       "      <td>0.0</td>\n",
       "      <td>0</td>\n",
       "      <td>...</td>\n",
       "      <td>0</td>\n",
       "      <td>0</td>\n",
       "      <td>0</td>\n",
       "      <td>0</td>\n",
       "      <td>0</td>\n",
       "      <td>0</td>\n",
       "      <td>0</td>\n",
       "      <td>0</td>\n",
       "      <td>0</td>\n",
       "      <td>0</td>\n",
       "    </tr>\n",
       "  </tbody>\n",
       "</table>\n",
       "<p>5 rows × 31 columns</p>\n",
       "</div>"
      ],
      "text/plain": [
       "   ID Nationality   Age  DaysSinceCreation  \\\n",
       "0   1         PRT  51.0                150   \n",
       "1   2         PRT   NaN               1095   \n",
       "2   3         DEU  31.0               1095   \n",
       "3   4         FRA  60.0               1095   \n",
       "4   5         FRA  51.0               1095   \n",
       "\n",
       "                                            NameHash  \\\n",
       "0  0x8E0A7AF39B633D5EA25C3B7EF4DFC5464B36DB7AF375...   \n",
       "1  0x21EDE41906B45079E75385B5AA33287CA09DE1AB86DE...   \n",
       "2  0x31C5E4B74E23231295FDB724AD578C02C4A723F4BA2B...   \n",
       "3  0xFF534C83C0EF23D1CE516BC80A65D0197003D27937D4...   \n",
       "4  0x9C1DEF02C9BE242842C1C1ABF2C5AA249A1EEB4763B4...   \n",
       "\n",
       "                                           DocIDHash  AverageLeadTime  \\\n",
       "0  0x71568459B729F7A7ABBED6C781A84CA4274D571003AC...               45   \n",
       "1  0x5FA1E0098A31497057C5A6B9FE9D49FD6DD47CCE7C26...               61   \n",
       "2  0xC7CF344F5B03295037595B1337AC905CA188F1B5B3A5...                0   \n",
       "3  0xBD3823A9B4EC35D6CAF4B27AE423A677C0200DB61E82...               93   \n",
       "4  0xE175754CF77247B202DD0820F49407C762C14A603B3A...                0   \n",
       "\n",
       "   LodgingRevenue  OtherRevenue  BookingsCanceled  ...  SRMediumFloor  \\\n",
       "0           371.0         105.3                 1  ...              0   \n",
       "1           280.0          53.0                 0  ...              0   \n",
       "2             0.0           0.0                 0  ...              0   \n",
       "3           240.0          60.0                 0  ...              0   \n",
       "4             0.0           0.0                 0  ...              0   \n",
       "\n",
       "   SRBathtub  SRShower  SRCrib  SRKingSizeBed  SRTwinBed SRNearElevator  \\\n",
       "0          0         0       0              0          0              0   \n",
       "1          0         0       0              0          0              0   \n",
       "2          0         0       0              0          0              0   \n",
       "3          0         0       0              0          0              0   \n",
       "4          0         0       0              0          0              0   \n",
       "\n",
       "  SRAwayFromElevator  SRNoAlcoholInMiniBar  SRQuietRoom  \n",
       "0                  0                     0            0  \n",
       "1                  0                     0            0  \n",
       "2                  0                     0            0  \n",
       "3                  0                     0            0  \n",
       "4                  0                     0            0  \n",
       "\n",
       "[5 rows x 31 columns]"
      ]
     },
     "execution_count": 19,
     "metadata": {},
     "output_type": "execute_result"
    }
   ],
   "source": [
    "print(dataset.dtypes)\n",
    "print(dataset.shape)\n",
    "dataset.head()"
   ]
  },
  {
   "cell_type": "markdown",
   "metadata": {},
   "source": [
    "The initial datasets consists of 31 columns and 83590 rows which contain customer information from a Hotel in Lisbon. Detailed information about each variable can be found on the link specified at the top. The most relevant variables can be grouped into several categories: \n",
    "1. Demographical: $Age$, $Nationality$\n",
    "2. Main Booking Statistics: $LodgingRevenue$, $OtherRevenue$, $BookingsCanceled$, $BookingsNoShowed$, $BookingsCheckedIn$, $PersonsNights$, $RoomNights$\n",
    "3. Booking Preferences: $SRHighFloor$, $SRLowFloor$, $SRAccessibleRoom$, $SRMediumFloor$, $SRBathtub$, $SRShower$, $SRCrib$, $SRKingSizeBed$, $SRTwinBed$, $SRNearElevator$, $SRAwayFromElevator$, $SRNoAlcoholInMiniBar$, $SRQuietRoom$\n",
    "4. Time-Related Variables: $DaysSinceCreation$, $AverageLeadTime$, $DaysSinceLastStay$, $DaysSinceFirstStay$\n",
    "5. Other: $DistributionChannel$, $MarketSegment$\n",
    "\n",
    "In the following sections, these variables will be explored statistically and visually based on these categories. Notably, for now steps relevant for pre-processing such as checking for outliers, missing values, or altering variable types will be skipped. The intention is to first gain an understanding of the dataset while practicing my exploratory data analysis skills, before moving on to proper data pre-processing.\n",
    "\n",
    "## Part 2: Demographics\n",
    "\n",
    "Regarding **age**, a typical customer seems to be in the range of 40 to around 55 with a mean of roughly 45. The distribution looks aproximately normal with ages of 20 and below as well as 65 and above being much less common. \n",
    "In terms of **Nationality**, the hotel's top customers are from France, followed unexpectedly by Portugal itself, as well as several other European countries such as Germany, Spain, and Italy. "
   ]
  },
  {
   "cell_type": "code",
   "execution_count": null,
   "metadata": {},
   "outputs": [
    {
     "name": "stdout",
     "output_type": "stream",
     "text": [
      "count    79811.000000\n",
      "mean        45.398028\n",
      "std         16.572368\n",
      "min        -11.000000\n",
      "25%         34.000000\n",
      "50%         46.000000\n",
      "75%         57.000000\n",
      "max        122.000000\n",
      "Name: Age, dtype: float64\n",
      "\n",
      "\n",
      "count     83590\n",
      "unique      188\n",
      "top         FRA\n",
      "freq      12422\n",
      "Name: Nationality, dtype: object\n"
     ]
    }
   ],
   "source": [
    "#basic descriptive statistics\n",
    "print(dataset[\"Age\"].describe())\n",
    "print(\"\\n\")\n",
    "print(dataset[\"Nationality\"].describe())"
   ]
  },
  {
   "cell_type": "code",
   "execution_count": 405,
   "metadata": {},
   "outputs": [
    {
     "data": {
      "image/png": "[encoded data removed]",
      "text/plain": [
       "<Figure size 1800x360 with 2 Axes>"
      ]
     },
     "metadata": {},
     "output_type": "display_data"
    }
   ],
   "source": [
    "#plot age and nationality\n",
    "plt.style.use(\"seaborn\")\n",
    "figure, axis = plt.subplots(1,2, figsize = (25,5))\n",
    "\n",
    "axis[0].hist(dataset[\"Age\"], 30)\n",
    "axis[0].set_title(\"Age Distribution\")\n",
    "\n",
    "axis[1].bar(dataset[\"Nationality\"].value_counts().index[0:20], dataset[\"Nationality\"].value_counts()[0:20])\n",
    "axis[1].set_title(\"Top 20 Nationalities\")\n",
    "\n",
    "plt.show()"
   ]
  },
  {
   "cell_type": "code",
   "execution_count": 406,
   "metadata": {},
   "outputs": [
    {
     "data": {
      "text/plain": [
       "FRA    12422\n",
       "PRT    11597\n",
       "DEU    10232\n",
       "GBR     8656\n",
       "ESP     4902\n",
       "USA     3429\n",
       "ITA     3365\n",
       "BEL     3119\n",
       "BRA     2902\n",
       "NLD     2725\n",
       "CHE     2108\n",
       "IRL     1996\n",
       "CAN     1524\n",
       "AUT     1489\n",
       "SWE     1231\n",
       "ISR      900\n",
       "CHN      891\n",
       "NOR      795\n",
       "POL      760\n",
       "AUS      723\n",
       "Name: Nationality, dtype: int64"
      ]
     },
     "execution_count": 406,
     "metadata": {},
     "output_type": "execute_result"
    }
   ],
   "source": [
    "dataset[\"Nationality\"].value_counts()[0:20]"
   ]
  },
  {
   "cell_type": "markdown",
   "metadata": {},
   "source": [
    "## Part 3: Main Booking Statistics"
   ]
  },
  {
   "cell_type": "code",
   "execution_count": 9,
   "metadata": {},
   "outputs": [
    {
     "data": {
      "text/html": [
       "<div>\n",
       "<style scoped>\n",
       "    .dataframe tbody tr th:only-of-type {\n",
       "        vertical-align: middle;\n",
       "    }\n",
       "\n",
       "    .dataframe tbody tr th {\n",
       "        vertical-align: top;\n",
       "    }\n",
       "\n",
       "    .dataframe thead th {\n",
       "        text-align: right;\n",
       "    }\n",
       "</style>\n",
       "<table border=\"1\" class=\"dataframe\">\n",
       "  <thead>\n",
       "    <tr style=\"text-align: right;\">\n",
       "      <th></th>\n",
       "      <th>LodgingRevenue</th>\n",
       "      <th>OtherRevenue</th>\n",
       "      <th>BookingsCanceled</th>\n",
       "      <th>BookingsNoShowed</th>\n",
       "      <th>BookingsCheckedIn</th>\n",
       "      <th>PersonsNights</th>\n",
       "      <th>RoomNights</th>\n",
       "    </tr>\n",
       "  </thead>\n",
       "  <tbody>\n",
       "    <tr>\n",
       "      <th>count</th>\n",
       "      <td>83590.00</td>\n",
       "      <td>83590.00</td>\n",
       "      <td>83590.00</td>\n",
       "      <td>83590.00</td>\n",
       "      <td>83590.00</td>\n",
       "      <td>83590.00</td>\n",
       "      <td>83590.00</td>\n",
       "    </tr>\n",
       "    <tr>\n",
       "      <th>mean</th>\n",
       "      <td>298.80</td>\n",
       "      <td>67.59</td>\n",
       "      <td>0.00</td>\n",
       "      <td>0.00</td>\n",
       "      <td>0.79</td>\n",
       "      <td>4.65</td>\n",
       "      <td>2.36</td>\n",
       "    </tr>\n",
       "    <tr>\n",
       "      <th>std</th>\n",
       "      <td>372.85</td>\n",
       "      <td>114.33</td>\n",
       "      <td>0.07</td>\n",
       "      <td>0.03</td>\n",
       "      <td>0.70</td>\n",
       "      <td>4.57</td>\n",
       "      <td>2.28</td>\n",
       "    </tr>\n",
       "    <tr>\n",
       "      <th>min</th>\n",
       "      <td>0.00</td>\n",
       "      <td>0.00</td>\n",
       "      <td>0.00</td>\n",
       "      <td>0.00</td>\n",
       "      <td>0.00</td>\n",
       "      <td>0.00</td>\n",
       "      <td>0.00</td>\n",
       "    </tr>\n",
       "    <tr>\n",
       "      <th>25%</th>\n",
       "      <td>59.00</td>\n",
       "      <td>2.00</td>\n",
       "      <td>0.00</td>\n",
       "      <td>0.00</td>\n",
       "      <td>1.00</td>\n",
       "      <td>1.00</td>\n",
       "      <td>1.00</td>\n",
       "    </tr>\n",
       "    <tr>\n",
       "      <th>50%</th>\n",
       "      <td>234.00</td>\n",
       "      <td>38.50</td>\n",
       "      <td>0.00</td>\n",
       "      <td>0.00</td>\n",
       "      <td>1.00</td>\n",
       "      <td>4.00</td>\n",
       "      <td>2.00</td>\n",
       "    </tr>\n",
       "    <tr>\n",
       "      <th>75%</th>\n",
       "      <td>402.00</td>\n",
       "      <td>87.68</td>\n",
       "      <td>0.00</td>\n",
       "      <td>0.00</td>\n",
       "      <td>1.00</td>\n",
       "      <td>6.00</td>\n",
       "      <td>4.00</td>\n",
       "    </tr>\n",
       "    <tr>\n",
       "      <th>max</th>\n",
       "      <td>21781.00</td>\n",
       "      <td>7730.25</td>\n",
       "      <td>9.00</td>\n",
       "      <td>3.00</td>\n",
       "      <td>66.00</td>\n",
       "      <td>116.00</td>\n",
       "      <td>185.00</td>\n",
       "    </tr>\n",
       "  </tbody>\n",
       "</table>\n",
       "</div>"
      ],
      "text/plain": [
       "       LodgingRevenue  OtherRevenue  BookingsCanceled  BookingsNoShowed  \\\n",
       "count        83590.00      83590.00          83590.00          83590.00   \n",
       "mean           298.80         67.59              0.00              0.00   \n",
       "std            372.85        114.33              0.07              0.03   \n",
       "min              0.00          0.00              0.00              0.00   \n",
       "25%             59.00          2.00              0.00              0.00   \n",
       "50%            234.00         38.50              0.00              0.00   \n",
       "75%            402.00         87.68              0.00              0.00   \n",
       "max          21781.00       7730.25              9.00              3.00   \n",
       "\n",
       "       BookingsCheckedIn  PersonsNights  RoomNights  \n",
       "count           83590.00       83590.00    83590.00  \n",
       "mean                0.79           4.65        2.36  \n",
       "std                 0.70           4.57        2.28  \n",
       "min                 0.00           0.00        0.00  \n",
       "25%                 1.00           1.00        1.00  \n",
       "50%                 1.00           4.00        2.00  \n",
       "75%                 1.00           6.00        4.00  \n",
       "max                66.00         116.00      185.00  "
      ]
     },
     "execution_count": 9,
     "metadata": {},
     "output_type": "execute_result"
    }
   ],
   "source": [
    "#basic descriptive statistics\n",
    "round(dataset[[\"LodgingRevenue\", \"OtherRevenue\", \"BookingsCanceled\", \"BookingsNoShowed\", \"BookingsCheckedIn\", \"PersonsNights\", \"RoomNights\"]].describe(), 2)"
   ]
  },
  {
   "cell_type": "markdown",
   "metadata": {},
   "source": [
    "### Part 3.1: Revenue\n",
    "In terms of **Revenue**, it should first be noted that the total Revenue consist of contributions from almost 76% of customers. Additionally, in almost all cases (> 99%), these individual contributions consisted of both lodging and other forms of revenue. In terms of magnitude, the revenue obtained from lodging is on average substantially higher than when obtained from other sources. Moreover, both variables show very extreme outliers; hence, the top 5% were excluded in both cases for the sake of visualisation. Notably, the Lodging Revenue shows some resemblance of symmetry while the Other Revenue decreases exponentially from the left. "
   ]
  },
  {
   "cell_type": "code",
   "execution_count": 4,
   "metadata": {},
   "outputs": [
    {
     "data": {
      "text/html": [
       "<div>\n",
       "<style scoped>\n",
       "    .dataframe tbody tr th:only-of-type {\n",
       "        vertical-align: middle;\n",
       "    }\n",
       "\n",
       "    .dataframe tbody tr th {\n",
       "        vertical-align: top;\n",
       "    }\n",
       "\n",
       "    .dataframe thead th {\n",
       "        text-align: right;\n",
       "    }\n",
       "</style>\n",
       "<table border=\"1\" class=\"dataframe\">\n",
       "  <thead>\n",
       "    <tr style=\"text-align: right;\">\n",
       "      <th>OtherRevenue</th>\n",
       "      <th>False</th>\n",
       "      <th>True</th>\n",
       "      <th>All</th>\n",
       "    </tr>\n",
       "    <tr>\n",
       "      <th>LodgingRevenue</th>\n",
       "      <th></th>\n",
       "      <th></th>\n",
       "      <th></th>\n",
       "    </tr>\n",
       "  </thead>\n",
       "  <tbody>\n",
       "    <tr>\n",
       "      <th>False</th>\n",
       "      <td>20205</td>\n",
       "      <td>203</td>\n",
       "      <td>20408</td>\n",
       "    </tr>\n",
       "    <tr>\n",
       "      <th>True</th>\n",
       "      <td>9</td>\n",
       "      <td>63173</td>\n",
       "      <td>63182</td>\n",
       "    </tr>\n",
       "    <tr>\n",
       "      <th>All</th>\n",
       "      <td>20214</td>\n",
       "      <td>63376</td>\n",
       "      <td>83590</td>\n",
       "    </tr>\n",
       "  </tbody>\n",
       "</table>\n",
       "</div>"
      ],
      "text/plain": [
       "OtherRevenue    False   True    All\n",
       "LodgingRevenue                     \n",
       "False           20205    203  20408\n",
       "True                9  63173  63182\n",
       "All             20214  63376  83590"
      ]
     },
     "execution_count": 4,
     "metadata": {},
     "output_type": "execute_result"
    }
   ],
   "source": [
    "#absolute crosstab of whether or not the hotel reported any revenue for a customer\n",
    "pd.crosstab(dataset[\"LodgingRevenue\"] > 0, dataset[\"OtherRevenue\"] > 0, margins = True)"
   ]
  },
  {
   "cell_type": "code",
   "execution_count": 23,
   "metadata": {},
   "outputs": [
    {
     "data": {
      "text/html": [
       "<div>\n",
       "<style scoped>\n",
       "    .dataframe tbody tr th:only-of-type {\n",
       "        vertical-align: middle;\n",
       "    }\n",
       "\n",
       "    .dataframe tbody tr th {\n",
       "        vertical-align: top;\n",
       "    }\n",
       "\n",
       "    .dataframe thead th {\n",
       "        text-align: right;\n",
       "    }\n",
       "</style>\n",
       "<table border=\"1\" class=\"dataframe\">\n",
       "  <thead>\n",
       "    <tr style=\"text-align: right;\">\n",
       "      <th>OtherRevenue</th>\n",
       "      <th>False</th>\n",
       "      <th>True</th>\n",
       "      <th>All</th>\n",
       "    </tr>\n",
       "    <tr>\n",
       "      <th>LodgingRevenue</th>\n",
       "      <th></th>\n",
       "      <th></th>\n",
       "      <th></th>\n",
       "    </tr>\n",
       "  </thead>\n",
       "  <tbody>\n",
       "    <tr>\n",
       "      <th>False</th>\n",
       "      <td>24.17</td>\n",
       "      <td>0.24</td>\n",
       "      <td>24.41</td>\n",
       "    </tr>\n",
       "    <tr>\n",
       "      <th>True</th>\n",
       "      <td>0.01</td>\n",
       "      <td>75.57</td>\n",
       "      <td>75.59</td>\n",
       "    </tr>\n",
       "    <tr>\n",
       "      <th>All</th>\n",
       "      <td>24.18</td>\n",
       "      <td>75.82</td>\n",
       "      <td>100.00</td>\n",
       "    </tr>\n",
       "  </tbody>\n",
       "</table>\n",
       "</div>"
      ],
      "text/plain": [
       "OtherRevenue    False   True     All\n",
       "LodgingRevenue                      \n",
       "False           24.17   0.24   24.41\n",
       "True             0.01  75.57   75.59\n",
       "All             24.18  75.82  100.00"
      ]
     },
     "execution_count": 23,
     "metadata": {},
     "output_type": "execute_result"
    }
   ],
   "source": [
    "#relative crosstab of whether or not the hotel reported any revenue for a customer\n",
    "round(pd.crosstab(dataset[\"LodgingRevenue\"] > 0, dataset[\"OtherRevenue\"] > 0, margins = True, normalize = \"all\"),4)*100"
   ]
  },
  {
   "cell_type": "code",
   "execution_count": 4,
   "metadata": {},
   "outputs": [
    {
     "data": {
      "image/png": "[encoded data removed]",
      "text/plain": [
       "<Figure size 1440x720 with 2 Axes>"
      ]
     },
     "metadata": {},
     "output_type": "display_data"
    }
   ],
   "source": [
    "#plot revenue\n",
    "plt.style.use(\"seaborn\")\n",
    "figure, axis = plt.subplots(2,1, figsize = (20,10))\n",
    "\n",
    "#exclude: customers where no revenue was obtained & everything above the 99th percentile\n",
    "filtered_lrev = dataset[\"LodgingRevenue\"][(dataset[\"LodgingRevenue\"] < dataset[\"LodgingRevenue\"].quantile(0.95)) & (dataset[\"LodgingRevenue\"] > 0)]\n",
    "filtered_orev = dataset[\"OtherRevenue\"][(dataset[\"OtherRevenue\"] < dataset[\"OtherRevenue\"].quantile(0.95)) & (dataset[\"OtherRevenue\"] > 0)]\n",
    "\n",
    "axis[0].hist(filtered_lrev, 40)\n",
    "axis[0].set_title(\"Lodging Revenue\")\n",
    "\n",
    "plt.setp(axis, xlim=axis[0].get_xlim())\n",
    "\n",
    "axis[1].hist(filtered_orev,40)\n",
    "axis[1].set_title(\"Other Revenue\")\n",
    "\n",
    "plt.show()"
   ]
  },
  {
   "cell_type": "markdown",
   "metadata": {},
   "source": [
    "### Part 3.2: Booking Outcomes\n",
    "In terms of **Booking Outcomes**, around 76% of Customers have checked in at least once, although less than 2% checked in more than once. In other words, this hotel attracts very few repeat customers. On a positive note, the proportions of cancellations or no shows are both very low. Two notable customers are one person that cancelled a total of 9 times, as well as one person that did not show three times. \n",
    "<br>\n",
    "In terms of the total nights customers have checked in for: "
   ]
  },
  {
   "cell_type": "code",
   "execution_count": 3,
   "metadata": {},
   "outputs": [
    {
     "data": {
      "text/html": [
       "<div>\n",
       "<style scoped>\n",
       "    .dataframe tbody tr th:only-of-type {\n",
       "        vertical-align: middle;\n",
       "    }\n",
       "\n",
       "    .dataframe tbody tr th {\n",
       "        vertical-align: top;\n",
       "    }\n",
       "\n",
       "    .dataframe thead th {\n",
       "        text-align: right;\n",
       "    }\n",
       "</style>\n",
       "<table border=\"1\" class=\"dataframe\">\n",
       "  <thead>\n",
       "    <tr style=\"text-align: right;\">\n",
       "      <th></th>\n",
       "      <th>index</th>\n",
       "      <th>BookingsCheckedIn</th>\n",
       "      <th>BookingsCanceled</th>\n",
       "      <th>BookingsNoShowed</th>\n",
       "    </tr>\n",
       "  </thead>\n",
       "  <tbody>\n",
       "    <tr>\n",
       "      <th>0</th>\n",
       "      <td>0</td>\n",
       "      <td>19920.0</td>\n",
       "      <td>83472.0</td>\n",
       "      <td>83546.0</td>\n",
       "    </tr>\n",
       "    <tr>\n",
       "      <th>1</th>\n",
       "      <td>1</td>\n",
       "      <td>62215.0</td>\n",
       "      <td>92.0</td>\n",
       "      <td>36.0</td>\n",
       "    </tr>\n",
       "    <tr>\n",
       "      <th>2</th>\n",
       "      <td>2</td>\n",
       "      <td>1147.0</td>\n",
       "      <td>12.0</td>\n",
       "      <td>7.0</td>\n",
       "    </tr>\n",
       "    <tr>\n",
       "      <th>3</th>\n",
       "      <td>3</td>\n",
       "      <td>132.0</td>\n",
       "      <td>8.0</td>\n",
       "      <td>1.0</td>\n",
       "    </tr>\n",
       "    <tr>\n",
       "      <th>4</th>\n",
       "      <td>4</td>\n",
       "      <td>59.0</td>\n",
       "      <td>5.0</td>\n",
       "      <td>0.0</td>\n",
       "    </tr>\n",
       "    <tr>\n",
       "      <th>5</th>\n",
       "      <td>5</td>\n",
       "      <td>20.0</td>\n",
       "      <td>0.0</td>\n",
       "      <td>0.0</td>\n",
       "    </tr>\n",
       "    <tr>\n",
       "      <th>6</th>\n",
       "      <td>6</td>\n",
       "      <td>20.0</td>\n",
       "      <td>0.0</td>\n",
       "      <td>0.0</td>\n",
       "    </tr>\n",
       "    <tr>\n",
       "      <th>7</th>\n",
       "      <td>7</td>\n",
       "      <td>16.0</td>\n",
       "      <td>0.0</td>\n",
       "      <td>0.0</td>\n",
       "    </tr>\n",
       "    <tr>\n",
       "      <th>8</th>\n",
       "      <td>8</td>\n",
       "      <td>10.0</td>\n",
       "      <td>0.0</td>\n",
       "      <td>0.0</td>\n",
       "    </tr>\n",
       "    <tr>\n",
       "      <th>9</th>\n",
       "      <td>9</td>\n",
       "      <td>9.0</td>\n",
       "      <td>1.0</td>\n",
       "      <td>0.0</td>\n",
       "    </tr>\n",
       "    <tr>\n",
       "      <th>10</th>\n",
       "      <td>10</td>\n",
       "      <td>7.0</td>\n",
       "      <td>0.0</td>\n",
       "      <td>0.0</td>\n",
       "    </tr>\n",
       "  </tbody>\n",
       "</table>\n",
       "</div>"
      ],
      "text/plain": [
       "    index  BookingsCheckedIn  BookingsCanceled  BookingsNoShowed\n",
       "0       0            19920.0           83472.0           83546.0\n",
       "1       1            62215.0              92.0              36.0\n",
       "2       2             1147.0              12.0               7.0\n",
       "3       3              132.0               8.0               1.0\n",
       "4       4               59.0               5.0               0.0\n",
       "5       5               20.0               0.0               0.0\n",
       "6       6               20.0               0.0               0.0\n",
       "7       7               16.0               0.0               0.0\n",
       "8       8               10.0               0.0               0.0\n",
       "9       9                9.0               1.0               0.0\n",
       "10     10                7.0               0.0               0.0"
      ]
     },
     "execution_count": 3,
     "metadata": {},
     "output_type": "execute_result"
    }
   ],
   "source": [
    "#frequency table for Booking Outcomes\n",
    "freq = pd.DataFrame(range(dataset[\"BookingsCheckedIn\"].max()))\n",
    "freq.columns = [\"index\"]\n",
    "checked_in = dataset[\"BookingsCheckedIn\"].value_counts().sort_index().to_frame().reset_index()\n",
    "canceled  = dataset[\"BookingsCanceled\"].value_counts().sort_index().to_frame().reset_index()\n",
    "noshowed = dataset[\"BookingsNoShowed\"].value_counts().sort_index().to_frame().reset_index()\n",
    "\n",
    "merged_df1 = freq.merge(checked_in, how = \"left\")\n",
    "merged_df2 = merged_df1.merge(canceled, how = \"left\")\n",
    "merged_final = merged_df2.merge(noshowed, how = \"left\")\n",
    "merged_final.fillna(0, inplace = True)\n",
    "\n",
    "merged_final[0:11]"
   ]
  },
  {
   "cell_type": "code",
   "execution_count": 61,
   "metadata": {},
   "outputs": [
    {
     "name": "stdout",
     "output_type": "stream",
     "text": [
      "False    0.761694\n",
      "True     0.238306\n",
      "Name: BookingsCheckedIn, dtype: float64\n",
      "\n",
      " 0.0174\n"
     ]
    }
   ],
   "source": [
    "#percentage of customers with 0 versus 1+ check-ins\n",
    "print((dataset[\"BookingsCheckedIn\"] == 0).value_counts()/len(dataset[\"BookingsCheckedIn\"]))\n",
    "\n",
    "#percentage of customers with more than 1 checkin\n",
    "print(\"\\n\", round(len(dataset[\"BookingsCheckedIn\"][dataset[\"BookingsCheckedIn\"] > 1])/len(dataset[\"BookingsCheckedIn\"]),4))"
   ]
  },
  {
   "cell_type": "code",
   "execution_count": 5,
   "metadata": {},
   "outputs": [
    {
     "data": {
      "image/png": "[encoded data removed]",
      "text/plain": [
       "<Figure size 1440x720 with 3 Axes>"
      ]
     },
     "metadata": {},
     "output_type": "display_data"
    }
   ],
   "source": [
    "#plot bookings cancelled, no shows, and checkins\n",
    "#plots use log scale as the majority of values are equal to 0\n",
    "plt.style.use(\"seaborn\")\n",
    "figure, axis = plt.subplots(1,3, figsize = (20,10))\n",
    "\n",
    "axis[0].hist(dataset[\"BookingsCanceled\"],10)\n",
    "axis[0].set_yscale(\"log\")\n",
    "axis[0].set_title(\"Frequency of Cancelling\")\n",
    "\n",
    "axis[1].hist(dataset[\"BookingsNoShowed\"],4)\n",
    "axis[1].set_yscale(\"log\")\n",
    "axis[1].set_xticks(ticks = [0,1,2,3])\n",
    "axis[1].set_title(\"Frequency of No Shows\")\n",
    "\n",
    "axis[2].hist(dataset[\"BookingsCheckedIn\"], 67)\n",
    "axis[2].set_yscale(\"log\")\n",
    "axis[2].set_title(\"Frequency of Check-Ins\")\n",
    "\n",
    "plt.show()"
   ]
  },
  {
   "cell_type": "markdown",
   "metadata": {},
   "source": [
    "### Part 3.3: Room\\*Nights & Persons\\*Nights\n",
    "Concerning the \"total number of nights * total number of rooms\" as well as the \"total number of nights * total number of people\" per customers, several observations can be made. Firstly, both variables show rather extreme outliers, and even without these outliers the general distributions show a skew to the right. In other words, staying fewer nights, booking fewer rooms, or coming with fewer people is more common. This is in line with the observation that the majority of customers are one-time customers. \n",
    "In terms of the relationship between these two variables, the plot shows several linear trends. When examining this more closely for the one-time customers (where the pattern  is not clouded by multiple non-homogenous trips), we can draw certain conclusions about the minimum number of guests per booking. Specifically, for one time bookings bookings with at least 2 people are most common. "
   ]
  },
  {
   "cell_type": "code",
   "execution_count": 19,
   "metadata": {},
   "outputs": [
    {
     "name": "stdout",
     "output_type": "stream",
     "text": [
      "         RoomNights  PersonsNights\n",
      "count  63670.000000   63670.000000\n",
      "mean       3.096435       6.103675\n",
      "std        2.133161       4.302674\n",
      "min        1.000000       0.000000\n",
      "25%        2.000000       3.000000\n",
      "50%        3.000000       6.000000\n",
      "75%        4.000000       8.000000\n",
      "max      185.000000     116.000000\n"
     ]
    },
    {
     "data": {
      "text/html": [
       "<div>\n",
       "<style scoped>\n",
       "    .dataframe tbody tr th:only-of-type {\n",
       "        vertical-align: middle;\n",
       "    }\n",
       "\n",
       "    .dataframe tbody tr th {\n",
       "        vertical-align: top;\n",
       "    }\n",
       "\n",
       "    .dataframe thead th {\n",
       "        text-align: right;\n",
       "    }\n",
       "</style>\n",
       "<table border=\"1\" class=\"dataframe\">\n",
       "  <thead>\n",
       "    <tr style=\"text-align: right;\">\n",
       "      <th></th>\n",
       "      <th>RoomNights</th>\n",
       "      <th>PersonsNights</th>\n",
       "    </tr>\n",
       "  </thead>\n",
       "  <tbody>\n",
       "    <tr>\n",
       "      <th>43667</th>\n",
       "      <td>4</td>\n",
       "      <td>0</td>\n",
       "    </tr>\n",
       "    <tr>\n",
       "      <th>80019</th>\n",
       "      <td>2</td>\n",
       "      <td>0</td>\n",
       "    </tr>\n",
       "  </tbody>\n",
       "</table>\n",
       "</div>"
      ],
      "text/plain": [
       "       RoomNights  PersonsNights\n",
       "43667           4              0\n",
       "80019           2              0"
      ]
     },
     "execution_count": 19,
     "metadata": {},
     "output_type": "execute_result"
    }
   ],
   "source": [
    "#only select customers that have spent more than 0 nights\n",
    "nights = dataset[[\"RoomNights\", \"PersonsNights\"]][dataset[\"RoomNights\"] > 0]\n",
    "print(nights.describe())\n",
    "\n",
    "#there are two cases where PersonsNights is equal to 0 despite the customer having spent more than 0 nights; could these cases represent outliers? \n",
    "nights[nights[\"PersonsNights\"] == 0]"
   ]
  },
  {
   "cell_type": "code",
   "execution_count": 80,
   "metadata": {},
   "outputs": [
    {
     "data": {
      "image/png": "[encoded data removed]",
      "text/plain": [
       "<Figure size 1440x360 with 2 Axes>"
      ]
     },
     "metadata": {},
     "output_type": "display_data"
    }
   ],
   "source": [
    "#plotting the distributions of RoomNights and PersonsNights\n",
    "figure, axis = plt.subplots(1,2, figsize = (20,5))\n",
    "\n",
    "#excluding thetop 1% values as they are substantially larger \n",
    "rnights99 = nights[\"RoomNights\"][nights[\"RoomNights\"] < nights[\"RoomNights\"].quantile(0.99)]\n",
    "pnights99 = nights[\"PersonsNights\"][nights[\"PersonsNights\"] < nights[\"PersonsNights\"].quantile(0.99)]\n",
    "\n",
    "axis[0].bar(sorted(rnights99.unique()), rnights99.value_counts().sort_index(), width = 1)\n",
    "axis[0].set_title(\"Distribution of Room*Nights\")\n",
    "\n",
    "axis[1].bar(sorted(pnights99.unique()), pnights99.value_counts().sort_index(), width = 1)\n",
    "axis[1].set_title(\"Distribution of Persons*Nights\")\n",
    "\n",
    "plt.show()"
   ]
  },
  {
   "cell_type": "code",
   "execution_count": 78,
   "metadata": {},
   "outputs": [
    {
     "data": {
      "text/plain": [
       "(0.0, 100.0)"
      ]
     },
     "execution_count": 78,
     "metadata": {},
     "output_type": "execute_result"
    },
    {
     "data": {
      "image/png": "[encoded data removed]",
      "text/plain": [
       "<Figure size 720x720 with 1 Axes>"
      ]
     },
     "metadata": {},
     "output_type": "display_data"
    }
   ],
   "source": [
    "#plotting the relationship between RoomNights & PersonsNights \n",
    "plt.figure(figsize = (10,10))\n",
    "plt.scatter(nights[\"RoomNights\"], nights[\"PersonsNights\"], s = 80, alpha = 0.5)\n",
    "plt.xlim(0,100)\n",
    "plt.ylim(0,100)"
   ]
  },
  {
   "cell_type": "code",
   "execution_count": 94,
   "metadata": {},
   "outputs": [
    {
     "name": "stdout",
     "output_type": "stream",
     "text": [
      "0.0        2\n",
      "1.0    13466\n",
      "2.0    40091\n",
      "3.0     6996\n",
      "4.0     1553\n",
      "5.0      107\n",
      "Name: Min_Persons, dtype: int64\n"
     ]
    }
   ],
   "source": [
    "#for one time customers, compute the minimum number of persons that stayed at the hotel under this booking\n",
    "one_time_cust = dataset[[\"BookingsCheckedIn\", \"RoomNights\", \"PersonsNights\"]][dataset[\"BookingsCheckedIn\"] == 1]\n",
    "one_time_cust[\"Min_Persons\"] = one_time_cust[\"PersonsNights\"]/one_time_cust[\"RoomNights\"]\n",
    "print(one_time_cust[\"Min_Persons\"].value_counts().sort_index())"
   ]
  },
  {
   "cell_type": "code",
   "execution_count": 95,
   "metadata": {},
   "outputs": [
    {
     "data": {
      "image/png": "[encoded data removed]",
      "text/plain": [
       "<Figure size 576x396 with 1 Axes>"
      ]
     },
     "metadata": {},
     "output_type": "display_data"
    }
   ],
   "source": [
    "plt.bar(one_time_cust[\"Min_Persons\"].unique(), one_time_cust[\"Min_Persons\"].value_counts(), width = 1)\n",
    "plt.title(\"Minimum Number of Guests per Booking for One-Time Customers\")\n",
    "plt.show()"
   ]
  },
  {
   "cell_type": "markdown",
   "metadata": {},
   "source": [
    "## Part 4: Booking Preferences\n",
    "Concerning **booking preferences**, around half of guests never usually voice any preferences, while the other half usually voices at least one preference. Notably, it is less common that customers usually voice more than one preference, and no customer has voiced more than four preferences.\n",
    "In terms of specific preferences, the majority of possible booking preferences were voiced very rarely. Specifically, of the 13 options, 8 were asked for less than 1% of the time. The most frequently requested preferences are for: a  King-sized Bed (35%), a Twin Bed (14%), a Quiet Room (9%), and a High Floor (5%). This hierarchy does not change when contrasting customers with different numbers of preferences voiced. In other words, regardless of the number of preferences usually voice, the four top ones are chosen most frequently. There are two limitations to this generalisation. Firstly, as the King-sized bed is the highest preference, the twin-sized bed is requested substantially less frequently by customers that voice 2 or more preferences. Secondly and in line with this, customers who usually voice four preferences, tend to ask for a room close to the elevator as opposed to a room with a twin bed. "
   ]
  },
  {
   "cell_type": "code",
   "execution_count": 114,
   "metadata": {},
   "outputs": [
    {
     "data": {
      "text/html": [
       "<div>\n",
       "<style scoped>\n",
       "    .dataframe tbody tr th:only-of-type {\n",
       "        vertical-align: middle;\n",
       "    }\n",
       "\n",
       "    .dataframe tbody tr th {\n",
       "        vertical-align: top;\n",
       "    }\n",
       "\n",
       "    .dataframe thead th {\n",
       "        text-align: right;\n",
       "    }\n",
       "</style>\n",
       "<table border=\"1\" class=\"dataframe\">\n",
       "  <thead>\n",
       "    <tr style=\"text-align: right;\">\n",
       "      <th></th>\n",
       "      <th>SRHighFloor</th>\n",
       "      <th>SRLowFloor</th>\n",
       "      <th>SRAccessibleRoom</th>\n",
       "      <th>SRMediumFloor</th>\n",
       "      <th>SRBathtub</th>\n",
       "      <th>SRShower</th>\n",
       "      <th>SRCrib</th>\n",
       "      <th>SRKingSizeBed</th>\n",
       "      <th>SRTwinBed</th>\n",
       "      <th>SRNearElevator</th>\n",
       "      <th>SRAwayFromElevator</th>\n",
       "      <th>SRNoAlcoholInMiniBar</th>\n",
       "      <th>SRQuietRoom</th>\n",
       "    </tr>\n",
       "  </thead>\n",
       "  <tbody>\n",
       "    <tr>\n",
       "      <th>0</th>\n",
       "      <td>79621</td>\n",
       "      <td>83472</td>\n",
       "      <td>83569</td>\n",
       "      <td>83517</td>\n",
       "      <td>83352</td>\n",
       "      <td>83447</td>\n",
       "      <td>82485</td>\n",
       "      <td>54109</td>\n",
       "      <td>71675</td>\n",
       "      <td>83562</td>\n",
       "      <td>83297</td>\n",
       "      <td>83580</td>\n",
       "      <td>76203</td>\n",
       "    </tr>\n",
       "    <tr>\n",
       "      <th>1</th>\n",
       "      <td>3969</td>\n",
       "      <td>118</td>\n",
       "      <td>21</td>\n",
       "      <td>73</td>\n",
       "      <td>238</td>\n",
       "      <td>143</td>\n",
       "      <td>1105</td>\n",
       "      <td>29481</td>\n",
       "      <td>11915</td>\n",
       "      <td>28</td>\n",
       "      <td>293</td>\n",
       "      <td>10</td>\n",
       "      <td>7387</td>\n",
       "    </tr>\n",
       "  </tbody>\n",
       "</table>\n",
       "</div>"
      ],
      "text/plain": [
       "   SRHighFloor  SRLowFloor  SRAccessibleRoom  SRMediumFloor  SRBathtub  \\\n",
       "0        79621       83472             83569          83517      83352   \n",
       "1         3969         118                21             73        238   \n",
       "\n",
       "   SRShower  SRCrib  SRKingSizeBed  SRTwinBed  SRNearElevator  \\\n",
       "0     83447   82485          54109      71675           83562   \n",
       "1       143    1105          29481      11915              28   \n",
       "\n",
       "   SRAwayFromElevator  SRNoAlcoholInMiniBar  SRQuietRoom  \n",
       "0               83297                 83580        76203  \n",
       "1                 293                    10         7387  "
      ]
     },
     "execution_count": 114,
     "metadata": {},
     "output_type": "execute_result"
    }
   ],
   "source": [
    "#display absolute frequencies of outcomes\n",
    "dataset[[\"SRHighFloor\", \"SRLowFloor\", \"SRAccessibleRoom\", \"SRMediumFloor\", \"SRBathtub\", \"SRShower\", \"SRCrib\", \"SRKingSizeBed\", \"SRTwinBed\", \"SRNearElevator\", \"SRAwayFromElevator\", \"SRNoAlcoholInMiniBar\", \"SRQuietRoom\"]].apply(lambda x: x.value_counts())"
   ]
  },
  {
   "cell_type": "code",
   "execution_count": 113,
   "metadata": {},
   "outputs": [
    {
     "data": {
      "text/html": [
       "<div>\n",
       "<style scoped>\n",
       "    .dataframe tbody tr th:only-of-type {\n",
       "        vertical-align: middle;\n",
       "    }\n",
       "\n",
       "    .dataframe tbody tr th {\n",
       "        vertical-align: top;\n",
       "    }\n",
       "\n",
       "    .dataframe thead th {\n",
       "        text-align: right;\n",
       "    }\n",
       "</style>\n",
       "<table border=\"1\" class=\"dataframe\">\n",
       "  <thead>\n",
       "    <tr style=\"text-align: right;\">\n",
       "      <th></th>\n",
       "      <th>SRHighFloor</th>\n",
       "      <th>SRLowFloor</th>\n",
       "      <th>SRAccessibleRoom</th>\n",
       "      <th>SRMediumFloor</th>\n",
       "      <th>SRBathtub</th>\n",
       "      <th>SRShower</th>\n",
       "      <th>SRCrib</th>\n",
       "      <th>SRKingSizeBed</th>\n",
       "      <th>SRTwinBed</th>\n",
       "      <th>SRNearElevator</th>\n",
       "      <th>SRAwayFromElevator</th>\n",
       "      <th>SRNoAlcoholInMiniBar</th>\n",
       "      <th>SRQuietRoom</th>\n",
       "    </tr>\n",
       "  </thead>\n",
       "  <tbody>\n",
       "    <tr>\n",
       "      <th>0</th>\n",
       "      <td>95.25</td>\n",
       "      <td>99.86</td>\n",
       "      <td>99.97</td>\n",
       "      <td>99.91</td>\n",
       "      <td>99.72</td>\n",
       "      <td>99.83</td>\n",
       "      <td>98.68</td>\n",
       "      <td>64.73</td>\n",
       "      <td>85.75</td>\n",
       "      <td>99.97</td>\n",
       "      <td>99.65</td>\n",
       "      <td>99.99</td>\n",
       "      <td>91.16</td>\n",
       "    </tr>\n",
       "    <tr>\n",
       "      <th>1</th>\n",
       "      <td>4.75</td>\n",
       "      <td>0.14</td>\n",
       "      <td>0.03</td>\n",
       "      <td>0.09</td>\n",
       "      <td>0.28</td>\n",
       "      <td>0.17</td>\n",
       "      <td>1.32</td>\n",
       "      <td>35.27</td>\n",
       "      <td>14.25</td>\n",
       "      <td>0.03</td>\n",
       "      <td>0.35</td>\n",
       "      <td>0.01</td>\n",
       "      <td>8.84</td>\n",
       "    </tr>\n",
       "  </tbody>\n",
       "</table>\n",
       "</div>"
      ],
      "text/plain": [
       "   SRHighFloor  SRLowFloor  SRAccessibleRoom  SRMediumFloor  SRBathtub  \\\n",
       "0        95.25       99.86             99.97          99.91      99.72   \n",
       "1         4.75        0.14              0.03           0.09       0.28   \n",
       "\n",
       "   SRShower  SRCrib  SRKingSizeBed  SRTwinBed  SRNearElevator  \\\n",
       "0     99.83   98.68          64.73      85.75           99.97   \n",
       "1      0.17    1.32          35.27      14.25            0.03   \n",
       "\n",
       "   SRAwayFromElevator  SRNoAlcoholInMiniBar  SRQuietRoom  \n",
       "0               99.65                 99.99        91.16  \n",
       "1                0.35                  0.01         8.84  "
      ]
     },
     "execution_count": 113,
     "metadata": {},
     "output_type": "execute_result"
    }
   ],
   "source": [
    "#display relative frequencies (as percentage points)\n",
    "round(dataset[[\"SRHighFloor\", \"SRLowFloor\", \"SRAccessibleRoom\", \"SRMediumFloor\", \"SRBathtub\", \"SRShower\", \"SRCrib\", \"SRKingSizeBed\", \"SRTwinBed\", \"SRNearElevator\", \"SRAwayFromElevator\", \"SRNoAlcoholInMiniBar\", \"SRQuietRoom\"]].apply(lambda x: x.value_counts(normalize = True)) * 100, 2)"
   ]
  },
  {
   "cell_type": "code",
   "execution_count": 224,
   "metadata": {},
   "outputs": [
    {
     "name": "stderr",
     "output_type": "stream",
     "text": [
      "C:\\Users\\Computer\\AppData\\Local\\Temp/ipykernel_11780/1614683977.py:4: SettingWithCopyWarning: \n",
      "A value is trying to be set on a copy of a slice from a DataFrame.\n",
      "Try using .loc[row_indexer,col_indexer] = value instead\n",
      "\n",
      "See the caveats in the documentation: https://pandas.pydata.org/pandas-docs/stable/user_guide/indexing.html#returning-a-view-versus-a-copy\n",
      "  preferences[\"total_pref\"] = preferences.sum(axis = 1)\n"
     ]
    }
   ],
   "source": [
    "#compute the total number of preferences usualyl voiced by customers \n",
    "preferences = dataset[[\"SRHighFloor\", \"SRLowFloor\", \"SRAccessibleRoom\", \"SRMediumFloor\", \"SRBathtub\", \"SRShower\", \"SRCrib\", \"SRKingSizeBed\", \"SRTwinBed\", \"SRNearElevator\", \"SRAwayFromElevator\", \"SRNoAlcoholInMiniBar\", \"SRQuietRoom\"]]\n",
    "\n",
    "preferences[\"total_pref\"] = preferences.sum(axis = 1)"
   ]
  },
  {
   "cell_type": "code",
   "execution_count": 229,
   "metadata": {},
   "outputs": [
    {
     "data": {
      "image/png": "[encoded data removed]",
      "text/plain": [
       "<Figure size 720x432 with 1 Axes>"
      ]
     },
     "metadata": {},
     "output_type": "display_data"
    }
   ],
   "source": [
    "plt.figure(figsize= (10,6))\n",
    "plt.bar(preferences[\"total_pref\"].unique(), preferences[\"total_pref\"].value_counts().sort_index())\n",
    "plt.title(\"Number of Preferences Usually Voiced by Customers\")\n",
    "plt.ylim(0,42000)\n",
    "\n",
    "for i in range(5):\n",
    "   plt.text(i, preferences[\"total_pref\"].value_counts().sort_index()[i] + 500, preferences[\"total_pref\"].value_counts().sort_index()[i], ha = 'center', fontdict={\"size\":15, \"weight\":\"bold\"})\n",
    "\n",
    "plt.show()"
   ]
  },
  {
   "cell_type": "code",
   "execution_count": 234,
   "metadata": {},
   "outputs": [
    {
     "data": {
      "text/plain": [
       "Text(0.5, 1.0, 'Frequency of different Preferences')"
      ]
     },
     "execution_count": 234,
     "metadata": {},
     "output_type": "execute_result"
    },
    {
     "data": {
      "image/png": "[encoded data removed]",
      "text/plain": [
       "<Figure size 576x396 with 1 Axes>"
      ]
     },
     "metadata": {},
     "output_type": "display_data"
    }
   ],
   "source": [
    "plt.bar(preferences.sum(axis = 0).index[:13], preferences.sum(axis = 0)[:13])\n",
    "plt.xticks(preferences.columns, rotation = 90)\n",
    "plt.title(\"Frequency of different Preferences\")"
   ]
  },
  {
   "cell_type": "code",
   "execution_count": 235,
   "metadata": {},
   "outputs": [
    {
     "name": "stderr",
     "output_type": "stream",
     "text": [
      "C:\\Users\\Computer\\AppData\\Local\\Temp/ipykernel_11780/167115422.py:5: UserWarning: FixedFormatter should only be used together with FixedLocator\n",
      "  axis[0,0].set_xticklabels(preferences.columns, rotation = 90)\n",
      "C:\\Users\\Computer\\AppData\\Local\\Temp/ipykernel_11780/167115422.py:9: UserWarning: FixedFormatter should only be used together with FixedLocator\n",
      "  axis[0,1].set_xticklabels(preferences.columns, rotation = 90)\n",
      "C:\\Users\\Computer\\AppData\\Local\\Temp/ipykernel_11780/167115422.py:13: UserWarning: FixedFormatter should only be used together with FixedLocator\n",
      "  axis[1,0].set_xticklabels(preferences.columns, rotation = 90)\n",
      "C:\\Users\\Computer\\AppData\\Local\\Temp/ipykernel_11780/167115422.py:17: UserWarning: FixedFormatter should only be used together with FixedLocator\n",
      "  axis[1,1].set_xticklabels(preferences.columns, rotation = 90)\n"
     ]
    },
    {
     "data": {
      "image/png": "[encoded data removed]",
      "text/plain": [
       "<Figure size 1080x864 with 4 Axes>"
      ]
     },
     "metadata": {},
     "output_type": "display_data"
    }
   ],
   "source": [
    "#depending on the number of preferences usually voiced, plot which preferences were voiced most commonly\n",
    "figure, axis = plt.subplots(2,2, figsize = (15,12))\n",
    "\n",
    "axis[0,0].bar(preferences[preferences[\"total_pref\"] == 1].sum(axis = 0).index[:13], preferences[preferences[\"total_pref\"] == 1].sum(axis = 0)[:13])\n",
    "axis[0,0].set_xticklabels(preferences.columns, rotation = 90)\n",
    "axis[0,0].set_title(\"One Preference: Top Choices\")\n",
    "\n",
    "axis[0,1].bar(preferences[preferences[\"total_pref\"] == 2].sum(axis = 0).index[:13], preferences[preferences[\"total_pref\"] == 2].sum(axis = 0)[:13])\n",
    "axis[0,1].set_xticklabels(preferences.columns, rotation = 90)\n",
    "axis[0,1].set_title(\"Two Preferences: Top Choices\")\n",
    "\n",
    "axis[1,0].bar(preferences[preferences[\"total_pref\"] == 3].sum(axis = 0).index[:13], preferences[preferences[\"total_pref\"] == 3].sum(axis = 0)[:13])\n",
    "axis[1,0].set_xticklabels(preferences.columns, rotation = 90)\n",
    "axis[1,0].set_title(\"Three Preferences: Top Choices\")\n",
    "\n",
    "axis[1,1].bar(preferences[preferences[\"total_pref\"] == 4].sum(axis = 0).index[:13], preferences[preferences[\"total_pref\"] == 4].sum(axis = 0)[:13])\n",
    "axis[1,1].set_xticklabels(preferences.columns, rotation = 90)\n",
    "axis[1,1].set_title(\"Four Preferences: Top Choices\")\n",
    "\n",
    "plt.tight_layout()\n",
    "#plt.show(0)"
   ]
  },
  {
   "cell_type": "markdown",
   "metadata": {},
   "source": [
    "## Part 5: Time-Related Variables"
   ]
  },
  {
   "cell_type": "code",
   "execution_count": 368,
   "metadata": {},
   "outputs": [
    {
     "data": {
      "text/html": [
       "<div>\n",
       "<style scoped>\n",
       "    .dataframe tbody tr th:only-of-type {\n",
       "        vertical-align: middle;\n",
       "    }\n",
       "\n",
       "    .dataframe tbody tr th {\n",
       "        vertical-align: top;\n",
       "    }\n",
       "\n",
       "    .dataframe thead th {\n",
       "        text-align: right;\n",
       "    }\n",
       "</style>\n",
       "<table border=\"1\" class=\"dataframe\">\n",
       "  <thead>\n",
       "    <tr style=\"text-align: right;\">\n",
       "      <th></th>\n",
       "      <th>AverageLeadTime</th>\n",
       "      <th>DaysSinceCreation</th>\n",
       "      <th>DaysSinceLastStay</th>\n",
       "      <th>DaysSinceFirstStay</th>\n",
       "    </tr>\n",
       "  </thead>\n",
       "  <tbody>\n",
       "    <tr>\n",
       "      <th>count</th>\n",
       "      <td>83590.00</td>\n",
       "      <td>83590.00</td>\n",
       "      <td>83590.00</td>\n",
       "      <td>83590.00</td>\n",
       "    </tr>\n",
       "    <tr>\n",
       "      <th>mean</th>\n",
       "      <td>66.20</td>\n",
       "      <td>453.64</td>\n",
       "      <td>401.07</td>\n",
       "      <td>403.35</td>\n",
       "    </tr>\n",
       "    <tr>\n",
       "      <th>std</th>\n",
       "      <td>87.76</td>\n",
       "      <td>313.39</td>\n",
       "      <td>347.20</td>\n",
       "      <td>347.97</td>\n",
       "    </tr>\n",
       "    <tr>\n",
       "      <th>min</th>\n",
       "      <td>-1.00</td>\n",
       "      <td>0.00</td>\n",
       "      <td>-1.00</td>\n",
       "      <td>-1.00</td>\n",
       "    </tr>\n",
       "    <tr>\n",
       "      <th>25%</th>\n",
       "      <td>0.00</td>\n",
       "      <td>177.00</td>\n",
       "      <td>26.00</td>\n",
       "      <td>27.00</td>\n",
       "    </tr>\n",
       "    <tr>\n",
       "      <th>50%</th>\n",
       "      <td>29.00</td>\n",
       "      <td>397.00</td>\n",
       "      <td>366.00</td>\n",
       "      <td>369.00</td>\n",
       "    </tr>\n",
       "    <tr>\n",
       "      <th>75%</th>\n",
       "      <td>103.00</td>\n",
       "      <td>723.00</td>\n",
       "      <td>693.00</td>\n",
       "      <td>697.00</td>\n",
       "    </tr>\n",
       "    <tr>\n",
       "      <th>max</th>\n",
       "      <td>588.00</td>\n",
       "      <td>1095.00</td>\n",
       "      <td>1104.00</td>\n",
       "      <td>1186.00</td>\n",
       "    </tr>\n",
       "  </tbody>\n",
       "</table>\n",
       "</div>"
      ],
      "text/plain": [
       "       AverageLeadTime  DaysSinceCreation  DaysSinceLastStay  \\\n",
       "count         83590.00           83590.00           83590.00   \n",
       "mean             66.20             453.64             401.07   \n",
       "std              87.76             313.39             347.20   \n",
       "min              -1.00               0.00              -1.00   \n",
       "25%               0.00             177.00              26.00   \n",
       "50%              29.00             397.00             366.00   \n",
       "75%             103.00             723.00             693.00   \n",
       "max             588.00            1095.00            1104.00   \n",
       "\n",
       "       DaysSinceFirstStay  \n",
       "count            83590.00  \n",
       "mean               403.35  \n",
       "std                347.97  \n",
       "min                 -1.00  \n",
       "25%                 27.00  \n",
       "50%                369.00  \n",
       "75%                697.00  \n",
       "max               1186.00  "
      ]
     },
     "execution_count": 368,
     "metadata": {},
     "output_type": "execute_result"
    }
   ],
   "source": [
    "round(dataset[[\"AverageLeadTime\", \"DaysSinceCreation\", \"DaysSinceLastStay\", \"DaysSinceFirstStay\"]].describe(), 2)"
   ]
  },
  {
   "cell_type": "markdown",
   "metadata": {},
   "source": [
    "### Part 5.1 Average Lead Time\n",
    "In terms of the **Average Lead Time**, it is notable that while an average lead time of zero frequently indicates a customer never made a booking, there is a small group of customers that must have make a booking on the same date as their arrival date. Aside from this, lead time shows an exponential decrease meaning shorter average lead times are increasingly more common. "
   ]
  },
  {
   "cell_type": "code",
   "execution_count": 281,
   "metadata": {},
   "outputs": [
    {
     "name": "stdout",
     "output_type": "stream",
     "text": [
      "True     60867\n",
      "False    22723\n",
      "Name: AverageLeadTime, dtype: int64\n",
      "\n",
      "\n",
      "False    80796\n",
      "True      2794\n",
      "dtype: int64\n",
      "\n",
      "\n",
      "False    63671\n",
      "True     19919\n",
      "dtype: int64\n"
     ]
    },
    {
     "data": {
      "text/plain": [
       "83590"
      ]
     },
     "execution_count": 281,
     "metadata": {},
     "output_type": "execute_result"
    }
   ],
   "source": [
    "#there are 60867 cases where someone booked a hotel at least one day before their arrival date\n",
    "print((dataset[\"AverageLeadTime\"] > 0 ).value_counts())\n",
    "print(\"\\n\")\n",
    "\n",
    "#there are 2794 cases where someone booked a hotel on the same day as their arrival date\n",
    "print( ( (dataset[\"AverageLeadTime\"] == 0) & ((dataset[\"BookingsCanceled\"] > 0) | (dataset[\"BookingsNoShowed\"] > 0) | (dataset[\"BookingsCheckedIn\"] > 0))).value_counts() )\n",
    "print(\"\\n\")\n",
    "\n",
    "#consequently, there are 19919 customers in the system that never completed a booking\n",
    "print( ( (dataset[\"AverageLeadTime\"] == 0) & ((dataset[\"BookingsCanceled\"] == 0) & (dataset[\"BookingsNoShowed\"] == 0) & (dataset[\"BookingsCheckedIn\"] == 0))).value_counts() )"
   ]
  },
  {
   "cell_type": "code",
   "execution_count": 285,
   "metadata": {},
   "outputs": [
    {
     "data": {
      "image/png": "[encoded data removed]",
      "text/plain": [
       "<Figure size 1080x504 with 1 Axes>"
      ]
     },
     "metadata": {},
     "output_type": "display_data"
    }
   ],
   "source": [
    "#plot average lead time for cases that completed one or more bookings\n",
    "plt.figure(figsize=(15,7))\n",
    "plt.hist(dataset[\"AverageLeadTime\"][(dataset[\"BookingsCanceled\"] > 0) | (dataset[\"BookingsNoShowed\"] > 0) | (dataset[\"BookingsCheckedIn\"] > 0)], 50)\n",
    "plt.title(\"Average Lead Time Distribution\")\n",
    "plt.show()"
   ]
  },
  {
   "cell_type": "markdown",
   "metadata": {},
   "source": [
    "### Part 5.2 Days Since\n",
    "In general, substantially more customers were created in the last 350 days compared to the periods before after a dip around 400 days ago. Another notable dip occured between 700 and 800 days ago where less customers were registered. This recent increase in customer creations coincides with an increase in the since more customers stayed for the first time. Notably, there has also been a separate increase in the days since last stay implying that repeat customers might have been increasing as of lately. On another note, the difference between the first and last stay (for customers that completed more than one boooking) tends to be rather small and becomes exponentially less common with an increase in days. "
   ]
  },
  {
   "cell_type": "code",
   "execution_count": 303,
   "metadata": {},
   "outputs": [
    {
     "data": {
      "image/png": "[encoded data removed]",
      "text/plain": [
       "<Figure size 576x396 with 1 Axes>"
      ]
     },
     "metadata": {},
     "output_type": "display_data"
    }
   ],
   "source": [
    "#plt.xlim(max(dataset[\"DaysSinceCreation\"]), min(dataset[\"DaysSinceCreation\"]))\n",
    "plt.hist(dataset[\"DaysSinceCreation\"],50)\n",
    "plt.xlim(max(dataset[\"DaysSinceCreation\"]), min(dataset[\"DaysSinceCreation\"]))\n",
    "plt.title(\"Customer Acquisition\")\n",
    "plt.xlabel(\"Days Since Customer Account Creation\")\n",
    "plt.show()"
   ]
  },
  {
   "cell_type": "code",
   "execution_count": 321,
   "metadata": {},
   "outputs": [],
   "source": [
    "#compute the difference in days between last and first stay\n",
    "days = dataset[[\"DaysSinceLastStay\", \"DaysSinceFirstStay\"]][dataset[\"BookingsCheckedIn\"] > 1]\n",
    "days[\"Difference\"] = days[\"DaysSinceFirstStay\"] - days[\"DaysSinceLastStay\"]"
   ]
  },
  {
   "cell_type": "code",
   "execution_count": 367,
   "metadata": {},
   "outputs": [
    {
     "data": {
      "image/png": "[encoded data removed]",
      "text/plain": [
       "<Figure size 1800x576 with 2 Axes>"
      ]
     },
     "metadata": {},
     "output_type": "display_data"
    }
   ],
   "source": [
    "#plot the difference in days between first and last stay\n",
    "figure, axis = plt.subplots(1,2, figsize = (25,8))\n",
    "\n",
    "axis[0].hist(days[\"DaysSinceFirstStay\"],100, alpha = 0.5, color = \"red\")\n",
    "axis[0].hist(days[\"DaysSinceLastStay\"],100, alpha = 0.5)\n",
    "axis[0].set_xlim(max(days[\"DaysSinceFirstStay\"]), 0)\n",
    "\n",
    "axis[1].hist(days[\"Difference\"],50)\n",
    "axis[1].set_title(\"Difference in Days Between First and Last Stay\")\n",
    "\n",
    "plt.show()"
   ]
  },
  {
   "cell_type": "markdown",
   "metadata": {},
   "source": [
    "## Part 6: Other Variables\n",
    "In terms of the **Distribution Channel, customers typically rely on Travel Agents followed by Direct Channels. \n",
    "For the customer **Market Segments**, the majority falls into the other category, followed by Direct, Travel Agent, and Group. The other categories are represented only to a much lesser degree. \n",
    "Notably, while several of these categories exist across both variables, they do not correpsond 1 to 1. This is especially notable for the Corporate Distribution Channel where customers are distributed across all other market segments outside of the Corporate one as well. The closest overlaps seem to occur between Direct & Direct. "
   ]
  },
  {
   "cell_type": "code",
   "execution_count": 373,
   "metadata": {},
   "outputs": [
    {
     "data": {
      "text/html": [
       "<div>\n",
       "<style scoped>\n",
       "    .dataframe tbody tr th:only-of-type {\n",
       "        vertical-align: middle;\n",
       "    }\n",
       "\n",
       "    .dataframe tbody tr th {\n",
       "        vertical-align: top;\n",
       "    }\n",
       "\n",
       "    .dataframe thead th {\n",
       "        text-align: right;\n",
       "    }\n",
       "</style>\n",
       "<table border=\"1\" class=\"dataframe\">\n",
       "  <thead>\n",
       "    <tr style=\"text-align: right;\">\n",
       "      <th></th>\n",
       "      <th>MarketSegment</th>\n",
       "      <th>DistributionChannel</th>\n",
       "    </tr>\n",
       "  </thead>\n",
       "  <tbody>\n",
       "    <tr>\n",
       "      <th>Aviation</th>\n",
       "      <td>244.0</td>\n",
       "      <td>NaN</td>\n",
       "    </tr>\n",
       "    <tr>\n",
       "      <th>Complementary</th>\n",
       "      <td>510.0</td>\n",
       "      <td>NaN</td>\n",
       "    </tr>\n",
       "    <tr>\n",
       "      <th>Corporate</th>\n",
       "      <td>2169.0</td>\n",
       "      <td>2600.0</td>\n",
       "    </tr>\n",
       "    <tr>\n",
       "      <th>Direct</th>\n",
       "      <td>11457.0</td>\n",
       "      <td>11912.0</td>\n",
       "    </tr>\n",
       "    <tr>\n",
       "      <th>Electronic Distribution</th>\n",
       "      <td>NaN</td>\n",
       "      <td>509.0</td>\n",
       "    </tr>\n",
       "    <tr>\n",
       "      <th>Groups</th>\n",
       "      <td>9501.0</td>\n",
       "      <td>NaN</td>\n",
       "    </tr>\n",
       "    <tr>\n",
       "      <th>Other</th>\n",
       "      <td>48039.0</td>\n",
       "      <td>NaN</td>\n",
       "    </tr>\n",
       "    <tr>\n",
       "      <th>Travel Agent/Operator</th>\n",
       "      <td>11670.0</td>\n",
       "      <td>68569.0</td>\n",
       "    </tr>\n",
       "  </tbody>\n",
       "</table>\n",
       "</div>"
      ],
      "text/plain": [
       "                         MarketSegment  DistributionChannel\n",
       "Aviation                         244.0                  NaN\n",
       "Complementary                    510.0                  NaN\n",
       "Corporate                       2169.0               2600.0\n",
       "Direct                         11457.0              11912.0\n",
       "Electronic Distribution            NaN                509.0\n",
       "Groups                          9501.0                  NaN\n",
       "Other                          48039.0                  NaN\n",
       "Travel Agent/Operator          11670.0              68569.0"
      ]
     },
     "execution_count": 373,
     "metadata": {},
     "output_type": "execute_result"
    }
   ],
   "source": [
    "dataset[[\"MarketSegment\", \"DistributionChannel\"]].apply(lambda x: x.value_counts())"
   ]
  },
  {
   "cell_type": "code",
   "execution_count": 411,
   "metadata": {},
   "outputs": [
    {
     "data": {
      "text/html": [
       "<div>\n",
       "<style scoped>\n",
       "    .dataframe tbody tr th:only-of-type {\n",
       "        vertical-align: middle;\n",
       "    }\n",
       "\n",
       "    .dataframe tbody tr th {\n",
       "        vertical-align: top;\n",
       "    }\n",
       "\n",
       "    .dataframe thead th {\n",
       "        text-align: right;\n",
       "    }\n",
       "</style>\n",
       "<table border=\"1\" class=\"dataframe\">\n",
       "  <thead>\n",
       "    <tr style=\"text-align: right;\">\n",
       "      <th>DistributionChannel</th>\n",
       "      <th>Corporate</th>\n",
       "      <th>Direct</th>\n",
       "      <th>Electronic Distribution</th>\n",
       "      <th>Travel Agent/Operator</th>\n",
       "    </tr>\n",
       "    <tr>\n",
       "      <th>MarketSegment</th>\n",
       "      <th></th>\n",
       "      <th></th>\n",
       "      <th></th>\n",
       "      <th></th>\n",
       "    </tr>\n",
       "  </thead>\n",
       "  <tbody>\n",
       "    <tr>\n",
       "      <th>Aviation</th>\n",
       "      <td>239</td>\n",
       "      <td>0</td>\n",
       "      <td>0</td>\n",
       "      <td>5</td>\n",
       "    </tr>\n",
       "    <tr>\n",
       "      <th>Complementary</th>\n",
       "      <td>14</td>\n",
       "      <td>393</td>\n",
       "      <td>0</td>\n",
       "      <td>103</td>\n",
       "    </tr>\n",
       "    <tr>\n",
       "      <th>Corporate</th>\n",
       "      <td>1724</td>\n",
       "      <td>46</td>\n",
       "      <td>2</td>\n",
       "      <td>397</td>\n",
       "    </tr>\n",
       "    <tr>\n",
       "      <th>Direct</th>\n",
       "      <td>14</td>\n",
       "      <td>11219</td>\n",
       "      <td>5</td>\n",
       "      <td>219</td>\n",
       "    </tr>\n",
       "    <tr>\n",
       "      <th>Groups</th>\n",
       "      <td>478</td>\n",
       "      <td>134</td>\n",
       "      <td>1</td>\n",
       "      <td>8888</td>\n",
       "    </tr>\n",
       "    <tr>\n",
       "      <th>Other</th>\n",
       "      <td>34</td>\n",
       "      <td>96</td>\n",
       "      <td>496</td>\n",
       "      <td>47413</td>\n",
       "    </tr>\n",
       "    <tr>\n",
       "      <th>Travel Agent/Operator</th>\n",
       "      <td>97</td>\n",
       "      <td>24</td>\n",
       "      <td>5</td>\n",
       "      <td>11544</td>\n",
       "    </tr>\n",
       "  </tbody>\n",
       "</table>\n",
       "</div>"
      ],
      "text/plain": [
       "DistributionChannel    Corporate  Direct  Electronic Distribution  \\\n",
       "MarketSegment                                                       \n",
       "Aviation                     239       0                        0   \n",
       "Complementary                 14     393                        0   \n",
       "Corporate                   1724      46                        2   \n",
       "Direct                        14   11219                        5   \n",
       "Groups                       478     134                        1   \n",
       "Other                         34      96                      496   \n",
       "Travel Agent/Operator         97      24                        5   \n",
       "\n",
       "DistributionChannel    Travel Agent/Operator  \n",
       "MarketSegment                                 \n",
       "Aviation                                   5  \n",
       "Complementary                            103  \n",
       "Corporate                                397  \n",
       "Direct                                   219  \n",
       "Groups                                  8888  \n",
       "Other                                  47413  \n",
       "Travel Agent/Operator                  11544  "
      ]
     },
     "execution_count": 411,
     "metadata": {},
     "output_type": "execute_result"
    }
   ],
   "source": [
    "pd.crosstab(dataset[\"MarketSegment\"], dataset[\"DistributionChannel\"])"
   ]
  },
  {
   "cell_type": "code",
   "execution_count": 401,
   "metadata": {},
   "outputs": [
    {
     "name": "stderr",
     "output_type": "stream",
     "text": [
      "C:\\Users\\Computer\\AppData\\Local\\Temp/ipykernel_11780/2642116058.py:4: UserWarning: FixedFormatter should only be used together with FixedLocator\n",
      "  axis[0].set_xticklabels(sorted(dataset[\"MarketSegment\"].unique()), rotation = 90)\n",
      "C:\\Users\\Computer\\AppData\\Local\\Temp/ipykernel_11780/2642116058.py:8: UserWarning: FixedFormatter should only be used together with FixedLocator\n",
      "  axis[1].set_xticklabels(sorted(dataset[\"DistributionChannel\"].unique()), rotation = 90)\n"
     ]
    },
    {
     "data": {
      "image/png": "[encoded data removed]",
      "text/plain": [
       "<Figure size 864x432 with 2 Axes>"
      ]
     },
     "metadata": {},
     "output_type": "display_data"
    }
   ],
   "source": [
    "figure, axis = plt.subplots(1,2, figsize = (12,6))\n",
    "\n",
    "axis[0].bar(sorted(dataset[\"MarketSegment\"].unique()), dataset[\"MarketSegment\"].value_counts().sort_index())\n",
    "axis[0].set_xticklabels(sorted(dataset[\"MarketSegment\"].unique()), rotation = 90)\n",
    "axis[0].set_title(\"Market Segments\")\n",
    "\n",
    "axis[1].bar(sorted(dataset[\"DistributionChannel\"].unique()), dataset[\"DistributionChannel\"].value_counts().sort_index())\n",
    "axis[1].set_xticklabels(sorted(dataset[\"DistributionChannel\"].unique()), rotation = 90)\n",
    "axis[1].set_title(\"Distribution Channels\")\n",
    "\n",
    "plt.show()"
   ]
  },
  {
   "cell_type": "markdown",
   "metadata": {},
   "source": [
    "## Part 7: Summary of Descriptives"
   ]
  }
 ],
 "metadata": {
  "interpreter": {
   "hash": "b89b5cfaba6639976dc87ff2fec6d58faec662063367e2c229c520fe71072417"
  },
  "kernelspec": {
   "display_name": "Python 3.10.0 64-bit",
   "language": "python",
   "name": "python3"
  },
  "language_info": {
   "codemirror_mode": {
    "name": "ipython",
    "version": 3
   },
   "file_extension": ".py",
   "mimetype": "text/x-python",
   "name": "python",
   "nbconvert_exporter": "python",
   "pygments_lexer": "ipython3",
   "version": "3.10.0"
  },
  "orig_nbformat": 4
 },
 "nbformat": 4,
 "nbformat_minor": 2
}
